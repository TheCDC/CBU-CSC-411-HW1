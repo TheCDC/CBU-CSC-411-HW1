{
 "cells": [
  {
   "cell_type": "markdown",
   "metadata": {
    "deletable": true,
    "editable": true
   },
   "source": [
    "# Problem statement\n",
    "Find the general form for constructing a DFA that can match an string representing a number in a given base that is divisible by a given divisor.\n",
    "\n",
    "The specific case of base-3, divisible by 4 is given as a previous problem."
   ]
  },
  {
   "cell_type": "markdown",
   "metadata": {
    "deletable": true,
    "editable": true
   },
   "source": [
    "# Define base-3 conversion"
   ]
  },
  {
   "cell_type": "code",
   "execution_count": 1,
   "metadata": {
    "collapsed": true,
    "deletable": true,
    "editable": true
   },
   "outputs": [],
   "source": [
    "def b3(n):\n",
    "    if n == 0:\n",
    "        return [0]\n",
    "    ds = []\n",
    "    while n > 0:\n",
    "        ds.append(n%3)\n",
    "        n = n//3\n",
    "    return list(reversed(ds))"
   ]
  },
  {
   "cell_type": "markdown",
   "metadata": {
    "deletable": true,
    "editable": true
   },
   "source": [
    "# Generate sample data"
   ]
  },
  {
   "cell_type": "code",
   "execution_count": 2,
   "metadata": {
    "collapsed": false,
    "deletable": true,
    "editable": true
   },
   "outputs": [
    {
     "name": "stdout",
     "output_type": "stream",
     "text": [
      "       0        0     True        0        0\n",
      "       1        1    False        1        1\n",
      "       2        2    False        2        2\n",
      "       3       10    False        1        3\n",
      "       4       11     True        2        4\n",
      "       5       12    False        3        5\n",
      "       6       20    False        2        6\n",
      "       7       21    False        3        7\n",
      "       8       22     True        4        8\n",
      "       9      100    False        1        9\n",
      "      10      101    False        2       10\n",
      "      11      102    False        3       11\n",
      "      12      110     True        2        0\n",
      "      13      111    False        3        1\n",
      "      14      112    False        4        2\n",
      "      15      120    False        3        3\n",
      "      16      121     True        4        4\n",
      "      17      122    False        5        5\n",
      "      18      200    False        2        6\n",
      "      19      201    False        3        7\n",
      "      20      202     True        4        8\n",
      "      21      210    False        3        9\n",
      "      22      211    False        4       10\n",
      "      23      212    False        5       11\n",
      "      24      220     True        4        0\n",
      "      25      221    False        5        1\n",
      "      26      222    False        6        2\n",
      "      27     1000    False        1        3\n",
      "      28     1001     True        2        4\n",
      "      29     1002    False        3        5\n",
      "      30     1010    False        2        6\n",
      "      31     1011    False        3        7\n",
      "      32     1012     True        4        8\n",
      "      33     1020    False        3        9\n",
      "      34     1021    False        4       10\n",
      "      35     1022    False        5       11\n",
      "      36     1100     True        2        0\n",
      "      37     1101    False        3        1\n",
      "      38     1102    False        4        2\n",
      "      39     1110    False        3        3\n",
      "      40     1111     True        4        4\n",
      "      41     1112    False        5        5\n",
      "      42     1120    False        4        6\n",
      "      43     1121    False        5        7\n",
      "      44     1122     True        6        8\n",
      "      45     1200    False        3        9\n",
      "      46     1201    False        4       10\n",
      "      47     1202    False        5       11\n",
      "      48     1210     True        4        0\n",
      "      49     1211    False        5        1\n",
      "      50     1212    False        6        2\n",
      "      51     1220    False        5        3\n",
      "      52     1221     True        6        4\n",
      "      53     1222    False        7        5\n",
      "      54     2000    False        2        6\n",
      "      55     2001    False        3        7\n",
      "      56     2002     True        4        8\n",
      "      57     2010    False        3        9\n",
      "      58     2011    False        4       10\n",
      "      59     2012    False        5       11\n",
      "      60     2020     True        4        0\n",
      "      61     2021    False        5        1\n",
      "      62     2022    False        6        2\n",
      "      63     2100    False        3        3\n",
      "      64     2101     True        4        4\n",
      "      65     2102    False        5        5\n",
      "      66     2110    False        4        6\n",
      "      67     2111    False        5        7\n",
      "      68     2112     True        6        8\n",
      "      69     2120    False        5        9\n",
      "      70     2121    False        6       10\n",
      "      71     2122    False        7       11\n",
      "      72     2200     True        4        0\n",
      "      73     2201    False        5        1\n",
      "      74     2202    False        6        2\n",
      "      75     2210    False        5        3\n",
      "      76     2211     True        6        4\n",
      "      77     2212    False        7        5\n",
      "      78     2220    False        6        6\n",
      "      79     2221    False        7        7\n",
      "      80     2222     True        8        8\n"
     ]
    }
   ],
   "source": [
    "from collections import defaultdict, Counter\n",
    "from math import log, ceil\n",
    "stop = 3**4\n",
    "maxlen = ceil(log(stop)/log(3))\n",
    "for i in range(stop):\n",
    "\n",
    "    args = [i,''.join(map(str,b3(i))), i%4==0, sum(b3(i)), i %12 ]\n",
    "    print(*[str(x).rjust(8) for x in args ])"
   ]
  },
  {
   "cell_type": "markdown",
   "metadata": {
    "deletable": true,
    "editable": true
   },
   "source": [
    "# Investigate patterns in digits"
   ]
  },
  {
   "cell_type": "code",
   "execution_count": 3,
   "metadata": {
    "collapsed": false,
    "deletable": true,
    "editable": true
   },
   "outputs": [
    {
     "name": "stdout",
     "output_type": "stream",
     "text": [
      "defaultdict(<class 'dict'>,\n",
      "            {(1, 1): {False: 10250, True: 3424},\n",
      "             (1, 2): {False: 7488, True: 2487},\n",
      "             (2, 1): {False: 8777, True: 2915},\n",
      "             (2, 2): {False: 7465, True: 2500}})\n"
     ]
    }
   ],
   "source": [
    "from pprint import pprint\n",
    "def x():\n",
    "    return defaultdict(lambda: 0)\n",
    "# instantiate a mapping to \n",
    "results = defaultdict(dict)\n",
    "\n",
    "for n in range(10000):\n",
    "    digits = list(reversed(b3(n)))\n",
    "    ds = [d for d in digits if d !=0]\n",
    "    for a,b in zip(ds[:-1],ds[1:]):\n",
    "        z = results[(a,b)]\n",
    "        z[n%4==0] = z.get(n%4==0,0) + 1\n",
    "\n",
    "        \n",
    "# output is ordered pairs of digits and their frequency            \n",
    "pprint(results)"
   ]
  },
  {
   "cell_type": "markdown",
   "metadata": {
    "deletable": true,
    "editable": true
   },
   "source": [
    "I don't see much of a pattern."
   ]
  },
  {
   "cell_type": "markdown",
   "metadata": {
    "deletable": true,
    "editable": true
   },
   "source": [
    "# Verify answer\n",
    "I have worked out my guess that there exists an extended delta function which given a current state, next character, base, and divisor can trivially return the next state of the DFA that matches strings representing numbers in the given base that are divisibly by the given divisor.\n",
    "\n",
    "S(state, character, base, divisor) = (state\\*base + character)%divisor\n",
    "\n",
    "I need a way of implementing and simulating the DFA desribed by this function."
   ]
  },
  {
   "cell_type": "code",
   "execution_count": 4,
   "metadata": {
    "collapsed": true,
    "deletable": true,
    "editable": true
   },
   "outputs": [],
   "source": [
    "# define the aforementioned function\n",
    "def state(start, character, base, divisor):\n",
    "    return (int(start)*base + int(character))%divisor"
   ]
  },
  {
   "cell_type": "code",
   "execution_count": 5,
   "metadata": {
    "collapsed": true,
    "deletable": true,
    "editable": true
   },
   "outputs": [],
   "source": [
    "# define a function to simulate a DFA with my state function\n",
    "def traverse(s, base, divisor):\n",
    "    mystate = 0\n",
    "    for c in s:\n",
    "        mystate = state(mystate, c, base, divisor)\n",
    "    return mystate"
   ]
  },
  {
   "cell_type": "code",
   "execution_count": 6,
   "metadata": {
    "collapsed": true,
    "deletable": true,
    "editable": true
   },
   "outputs": [],
   "source": [
    "# define a function for converting an magnitude to an arbitrary base\n",
    "def bn(n,b):\n",
    "    if n == 0:\n",
    "        return [0]\n",
    "    ds = []\n",
    "    while n > 0:\n",
    "        ds.append(n%b)\n",
    "        n = n//b\n",
    "    return list(reversed(ds))"
   ]
  },
  {
   "cell_type": "code",
   "execution_count": 7,
   "metadata": {
    "collapsed": false,
    "deletable": true,
    "editable": true
   },
   "outputs": [
    {
     "data": {
      "text/plain": [
       "0"
      ]
     },
     "execution_count": 7,
     "metadata": {},
     "output_type": "execute_result"
    }
   ],
   "source": [
    "# 11_3 % 4_10 should be 0\n",
    "traverse(\"11\",base=3,divisor=4)"
   ]
  },
  {
   "cell_type": "markdown",
   "metadata": {
    "deletable": true,
    "editable": true
   },
   "source": [
    "# Test my function for a large range of numbers, bases, and divisors"
   ]
  },
  {
   "cell_type": "code",
   "execution_count": 8,
   "metadata": {
    "collapsed": false,
    "deletable": true,
    "editable": true
   },
   "outputs": [
    {
     "name": "stdout",
     "output_type": "stream",
     "text": [
      "Success! :)\n"
     ]
    }
   ],
   "source": [
    "parameters = {\n",
    "    'range':(1,10000),\n",
    "    'bases': (2,10),\n",
    "    'divisors': (1,10),\n",
    "}    \n",
    "\n",
    "# loop over some integers\n",
    "for i in range(*parameters['range']):\n",
    "#     then the bases\n",
    "    for base in range(*parameters['bases']):\n",
    "        basen_string = ''.join(map(str,bn(i,base)))\n",
    "#     then the divisors\n",
    "        for divisor in range(*parameters['divisors']):\n",
    "            assert traverse(basen_string,base,divisor) == i%divisor\n",
    "else:\n",
    "#     execute if loops exits without breaking or throwing errors\n",
    "    print(\"Success! :)\")"
   ]
  },
  {
   "cell_type": "markdown",
   "metadata": {
    "collapsed": true,
    "deletable": true,
    "editable": true
   },
   "source": [
    "## Transition table for base-3 mod 4"
   ]
  },
  {
   "cell_type": "code",
   "execution_count": 20,
   "metadata": {
    "collapsed": false
   },
   "outputs": [
    {
     "name": "stdout",
     "output_type": "stream",
     "text": [
      "delta(0,0) = 0\n",
      "delta(0,1) = 1\n",
      "delta(0,2) = 2\n",
      "delta(1,0) = 3\n",
      "delta(1,1) = 0\n",
      "delta(1,2) = 1\n",
      "delta(2,0) = 2\n",
      "delta(2,1) = 3\n",
      "delta(2,2) = 0\n",
      "delta(3,0) = 1\n",
      "delta(3,1) = 2\n",
      "delta(3,2) = 3\n"
     ]
    }
   ],
   "source": [
    "b = 3\n",
    "d = 4\n",
    "l = []\n",
    "for remainder in range(d):\n",
    "    for digit in range(b):\n",
    "        l.append([remainder,digit,state(remainder,digit,b,d)])\n",
    "        print('delta({},{}) = {}'.format(*l[-1]))"
   ]
  },
  {
   "cell_type": "code",
   "execution_count": null,
   "metadata": {
    "collapsed": true
   },
   "outputs": [],
   "source": []
  }
 ],
 "metadata": {
  "kernelspec": {
   "display_name": "Python 3",
   "language": "python",
   "name": "python3"
  },
  "language_info": {
   "codemirror_mode": {
    "name": "ipython",
    "version": 3
   },
   "file_extension": ".py",
   "mimetype": "text/x-python",
   "name": "python",
   "nbconvert_exporter": "python",
   "pygments_lexer": "ipython3",
   "version": "3.5.3"
  }
 },
 "nbformat": 4,
 "nbformat_minor": 2
}
